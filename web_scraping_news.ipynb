{
 "cells": [
  {
   "cell_type": "code",
   "execution_count": 1,
   "metadata": {},
   "outputs": [],
   "source": [
    "import pandas as pd\n",
    "import numpy as np\n",
    "import re\n",
    "import urllib3\n",
    "from bs4 import BeautifulSoup\n",
    "import requests\n",
    "from nltk import sent_tokenize\n",
    "import itertools"
   ]
  },
  {
   "cell_type": "code",
   "execution_count": 2,
   "metadata": {},
   "outputs": [
    {
     "name": "stderr",
     "output_type": "stream",
     "text": [
      "[nltk_data] Downloading package punkt to /Users/mac/nltk_data...\n",
      "[nltk_data]   Package punkt is already up-to-date!\n"
     ]
    },
    {
     "data": {
      "text/plain": [
       "True"
      ]
     },
     "execution_count": 2,
     "metadata": {},
     "output_type": "execute_result"
    }
   ],
   "source": [
    "import nltk\n",
    "nltk.download('punkt')"
   ]
  },
  {
   "cell_type": "markdown",
   "metadata": {},
   "source": [
    "# Part 2 - Web scraping"
   ]
  },
  {
   "cell_type": "markdown",
   "metadata": {},
   "source": [
    "### 1 - Locate the second top story"
   ]
  },
  {
   "cell_type": "code",
   "execution_count": 6,
   "metadata": {},
   "outputs": [],
   "source": [
    "# setting the url\n",
    "url = 'https://www.usnews.com/'\n",
    "# include the header to advoid 'Access Denied' \n",
    "agent = {\"User-Agent\":\"Mozilla/5.0\"}\n",
    "response = requests.get(url, headers = agent)\n",
    "# parse the page into Beautifulsoup format \n",
    "usnews = BeautifulSoup(response.content, \"html.parser\")"
   ]
  },
  {
   "cell_type": "code",
   "execution_count": 7,
   "metadata": {},
   "outputs": [
    {
     "name": "stdout",
     "output_type": "stream",
     "text": [
      "Study Finds Racial Gap in Cancer Care \n"
     ]
    }
   ],
   "source": [
    "# get the title of the second top stories\n",
    "top_header = usnews.find('div', attrs={\"class\":\"s85n6m5-0-Box-cwadsP kdRAHx\"}).findAll(\"h3\")\n",
    "second_top_title = top_header[1].get_text()\n",
    "print(second_top_title)"
   ]
  },
  {
   "cell_type": "code",
   "execution_count": 17,
   "metadata": {},
   "outputs": [],
   "source": [
    "a = usnews.find('div', attrs={\"class\":\"s85n6m5-0-Box-cwadsP kdRAHx\"}).findAll(\"div\")\n",
    "# get the urls of the top stories\n",
    "content = []\n",
    "for lines in a:\n",
    "    urls = lines.findAll(\"a\")\n",
    "    for thing in urls:\n",
    "                c= thing.attrs[\"href\"]\n",
    "                content.append(c)"
   ]
  },
  {
   "cell_type": "code",
   "execution_count": 18,
   "metadata": {},
   "outputs": [],
   "source": [
    "# get the unique urls in order\n",
    "def uniq(input):\n",
    "    output = []\n",
    "    for x in input:\n",
    "        if x not in output:\n",
    "            output.append(x)\n",
    "    return output\n",
    "\n",
    "story_urls = uniq(content)\n",
    "\n",
    "# get the url for second top story\n",
    "second_top_url = story_urls[1]\n"
   ]
  },
  {
   "cell_type": "code",
   "execution_count": 19,
   "metadata": {},
   "outputs": [
    {
     "name": "stdout",
     "output_type": "stream",
     "text": [
      "https://www.usnews.com/news/healthiest-communities/articles/2020-01-09/study-finds-racial-disparities-with-breast-cancer-diagnosis\n"
     ]
    }
   ],
   "source": [
    "print(second_top_url)"
   ]
  },
  {
   "cell_type": "markdown",
   "metadata": {},
   "source": [
    "### 2 - Redirect to the page of second top story"
   ]
  },
  {
   "cell_type": "code",
   "execution_count": 20,
   "metadata": {},
   "outputs": [],
   "source": [
    "# include the header to advoid 'Access Denied' \n",
    "agent = {\"User-Agent\":\"Mozilla/5.0\"}\n",
    "response = requests.get(second_top_url, headers = agent)\n",
    "# parse the page into Beautifulsoup format \n",
    "second_top = BeautifulSoup(response.content, \"html.parser\")\n"
   ]
  },
  {
   "cell_type": "code",
   "execution_count": 21,
   "metadata": {},
   "outputs": [],
   "source": [
    "# find the title\n",
    "header = second_top.find('h1')"
   ]
  },
  {
   "cell_type": "code",
   "execution_count": 22,
   "metadata": {},
   "outputs": [],
   "source": [
    "# locate the divs with main text\n",
    "b = second_top.findAll('div', attrs={\"class\":\"Raw-s14xcvr1-0 AXWJq\"})\n",
    "# extract the text from the divs\n",
    "fulltext = []\n",
    "for p in b:\n",
    "    text = p.get_text()\n",
    "    fulltext.append(text)\n"
   ]
  },
  {
   "cell_type": "code",
   "execution_count": 29,
   "metadata": {},
   "outputs": [],
   "source": [
    "# separate the paragrahs into sentences\n",
    "sentences = []\n",
    "for p in fulltext:\n",
    "    s = sent_tokenize(p)\n",
    "    sentences.append(s)\n",
    "    \n",
    "# get the first three sentences\n",
    "first_three = list(itertools.chain.from_iterable(sentences[0:2]))"
   ]
  },
  {
   "cell_type": "code",
   "execution_count": 30,
   "metadata": {},
   "outputs": [
    {
     "name": "stdout",
     "output_type": "stream",
     "text": [
      "Study Finds Racial Disparities With Breast Cancer Diagnosis\n"
     ]
    }
   ],
   "source": [
    "# print the header\n",
    "print(header.text)"
   ]
  },
  {
   "cell_type": "code",
   "execution_count": 31,
   "metadata": {
    "scrolled": true
   },
   "outputs": [
    {
     "name": "stdout",
     "output_type": "stream",
     "text": [
      "Racial and ethnic minority women are more likely than white women to be diagnosed with breast cancer at a later stage, according to a study released Thursday.The JAMA Oncology study, which included more than 177,000 women in its sample, found that higher percentages of black, American Indian or Alaskan Native and Hispanic women were diagnosed with stage 3 breast cancer than white and Asian or Pacific Islander women.All four racial and ethnic minorities studied were diagnosed with stage 2 breast cancer at higher levels than white women as well.\n"
     ]
    }
   ],
   "source": [
    "# print the fisrt three sentences\n",
    "print(first_three[0] + first_three[1] + first_three[2])"
   ]
  },
  {
   "cell_type": "code",
   "execution_count": null,
   "metadata": {},
   "outputs": [],
   "source": []
  }
 ],
 "metadata": {
  "kernelspec": {
   "display_name": "Python 3",
   "language": "python",
   "name": "python3"
  },
  "language_info": {
   "codemirror_mode": {
    "name": "ipython",
    "version": 3
   },
   "file_extension": ".py",
   "mimetype": "text/x-python",
   "name": "python",
   "nbconvert_exporter": "python",
   "pygments_lexer": "ipython3",
   "version": "3.7.3"
  }
 },
 "nbformat": 4,
 "nbformat_minor": 2
}
